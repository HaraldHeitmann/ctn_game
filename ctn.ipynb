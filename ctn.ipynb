{
 "cells": [
  {
   "cell_type": "code",
   "execution_count": 1,
   "metadata": {
    "ExecuteTime": {
     "end_time": "2017-10-31T19:54:44.120000Z",
     "start_time": "2017-10-31T19:54:43.819000Z"
    },
    "collapsed": true
   },
   "outputs": [],
   "source": [
    "from numpy.random import permutation "
   ]
  },
  {
   "cell_type": "code",
   "execution_count": 15,
   "metadata": {
    "ExecuteTime": {
     "end_time": "2017-10-31T20:43:30.547000Z",
     "start_time": "2017-10-31T20:43:30.435000Z"
    }
   },
   "outputs": [],
   "source": [
    "class Player():\n",
    "    def __init__(self,color):\n",
    "        self.resources = {'wood':0,'brick':0,'rock':0,'wheat':0,'meat':0}\n",
    "        self.color = color\n",
    "        self.construc = {} # {location:type} type = village or city\n",
    "        \n",
    "class Board():\n",
    "    def __init__(self):\n",
    "        initial_setup = ['wood','wood','wood','wood',\n",
    "                       'rock','rock','rock',\n",
    "                       'brick','brick','brick','brick',\n",
    "                       'wheat','wheat','wheat','wheat',\n",
    "                       'meat','meat','meat',\n",
    "                       'thief',\n",
    "                      ] # perharps not the correct quantities\n",
    "        initial_prob=[2,\n",
    "              3,3,\n",
    "              4,4,\n",
    "              5,5,\n",
    "              6,6,\n",
    "              7,\n",
    "              8,8,\n",
    "              9,9,\n",
    "              10,10,\n",
    "              11,11,\n",
    "              12]\n",
    "        while True: # perhaps there is a better way, but this is quite fast\n",
    "            initial_setup = permutation(initial_setup).tolist()\n",
    "            self.tiles={i+1:initial_setup[i] for i in range(19)}\n",
    "\n",
    "            initial_prob=permutation(initial_prob)\n",
    "            self.prob={i+1:initial_prob[i] for i in range(19)}\n",
    "            self.selected = {i:[] for i in range(2,13)}\n",
    "            for i in range(1,20):\n",
    "                self.selected[self.prob[i]].append(self.tiles[i])\n",
    "            if self.selected[7]==['thief']:\n",
    "                break\n",
    "        self.places = range(1,55)\n",
    "        self.roads = range(1,73)\n",
    "        word='abcdefghifklmnopqrs'\n",
    "        layed=[2,\n",
    "              3,3,\n",
    "              4,4,\n",
    "              5,5,\n",
    "              6,6,\n",
    "              7,\n",
    "              8,8,\n",
    "              9,9,\n",
    "              10,10,\n",
    "              11,11,\n",
    "              12] # this determines how the board will be layed down\n",
    "        self.lay_me={word[i]:layed[i] for i in range(19)} # maybe this is unnecessary, and we just need to improve other things\n",
    "        self.connect={\n",
    "                    1:[1,2,3,32,31,30],\n",
    "                    2:[3,4,5,34,33,32],\n",
    "                    3:[5,6,7,8,35,34],\n",
    "                    4:[8,9,10,37,36,35],\n",
    "                    5:[10,11,12,13,38,37],\n",
    "                    6:[13,14,15,40,39],\n",
    "                    7:[15,16,17,18,41,40],\n",
    "                    8:[18,19,20,43,42],\n",
    "                    9:[20,21,22,23,44,43],\n",
    "                    10:[23,24,25,46,45,44],\n",
    "                    11:[25,26,27,28,47,46],\n",
    "                    12:[28,29,30,31,48,47],\n",
    "                    13:[31,32,33,50,49,48],\n",
    "                    14:[33,34,35,36,51,50],\n",
    "                    15:[36,37,38,39,52,51],\n",
    "                    16:[39,40,41,42,53,52],\n",
    "                    17:[42,43,44,45,54,53],\n",
    "                    18:[45,46,47,48,49,54],\n",
    "                    19:[49,50,51,52,53,54],\n",
    "                    }\n",
    "        self.roads={i:[i-1,i+1] for i in range(2,54)}\n",
    "        self.roads[1]=[30,2]\n",
    "        self.roads[54]=[53,49,45]\n",
    "        # still missing the connections with the third corner\n",
    "        # which means 38 changes\n",
    "        # look for some logic in this thing"
   ]
  },
  {
   "cell_type": "code",
   "execution_count": 16,
   "metadata": {
    "ExecuteTime": {
     "end_time": "2017-10-31T20:43:32.040000Z",
     "start_time": "2017-10-31T20:43:32.008000Z"
    }
   },
   "outputs": [
    {
     "data": {
      "text/plain": [
       "{1: [30, 2],\n",
       " 2: [1, 3],\n",
       " 3: [2, 4],\n",
       " 4: [3, 5],\n",
       " 5: [4, 6],\n",
       " 6: [5, 7],\n",
       " 7: [6, 8],\n",
       " 8: [7, 9],\n",
       " 9: [8, 10],\n",
       " 10: [9, 11],\n",
       " 11: [10, 12],\n",
       " 12: [11, 13],\n",
       " 13: [12, 14],\n",
       " 14: [13, 15],\n",
       " 15: [14, 16],\n",
       " 16: [15, 17],\n",
       " 17: [16, 18],\n",
       " 18: [17, 19],\n",
       " 19: [18, 20],\n",
       " 20: [19, 21],\n",
       " 21: [20, 22],\n",
       " 22: [21, 23],\n",
       " 23: [22, 24],\n",
       " 24: [23, 25],\n",
       " 25: [24, 26],\n",
       " 26: [25, 27],\n",
       " 27: [26, 28],\n",
       " 28: [27, 29],\n",
       " 29: [28, 30],\n",
       " 30: [29, 31],\n",
       " 31: [30, 32],\n",
       " 32: [31, 33],\n",
       " 33: [32, 34],\n",
       " 34: [33, 35],\n",
       " 35: [34, 36],\n",
       " 36: [35, 37],\n",
       " 37: [36, 38],\n",
       " 38: [37, 39],\n",
       " 39: [38, 40],\n",
       " 40: [39, 41],\n",
       " 41: [40, 42],\n",
       " 42: [41, 43],\n",
       " 43: [42, 44],\n",
       " 44: [43, 45],\n",
       " 45: [44, 46],\n",
       " 46: [45, 47],\n",
       " 47: [46, 48],\n",
       " 48: [47, 49],\n",
       " 49: [48, 50],\n",
       " 50: [49, 51],\n",
       " 51: [50, 52],\n",
       " 52: [51, 53],\n",
       " 53: [52, 54],\n",
       " 54: [53, 49, 45]}"
      ]
     },
     "execution_count": 16,
     "metadata": {},
     "output_type": "execute_result"
    }
   ],
   "source": [
    "board=Board()\n",
    "board.roads"
   ]
  },
  {
   "cell_type": "code",
   "execution_count": null,
   "metadata": {
    "collapsed": true
   },
   "outputs": [],
   "source": []
  }
 ],
 "metadata": {
  "kernelspec": {
   "display_name": "Python 2",
   "language": "python",
   "name": "python2"
  },
  "language_info": {
   "codemirror_mode": {
    "name": "ipython",
    "version": 2
   },
   "file_extension": ".py",
   "mimetype": "text/x-python",
   "name": "python",
   "nbconvert_exporter": "python",
   "pygments_lexer": "ipython2",
   "version": "2.7.13"
  }
 },
 "nbformat": 4,
 "nbformat_minor": 2
}
