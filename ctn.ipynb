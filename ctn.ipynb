{
 "cells": [
  {
   "cell_type": "code",
   "execution_count": 89,
   "metadata": {
    "ExecuteTime": {
     "end_time": "2017-10-31T13:08:20.706000Z",
     "start_time": "2017-10-31T13:08:20.693000Z"
    },
    "collapsed": true
   },
   "outputs": [],
   "source": [
    "from numpy.random import permutation "
   ]
  },
  {
   "cell_type": "code",
   "execution_count": 90,
   "metadata": {
    "ExecuteTime": {
     "end_time": "2017-10-31T13:08:31.244000Z",
     "start_time": "2017-10-31T13:08:31.211000Z"
    }
   },
   "outputs": [],
   "source": [
    "class Player():\n",
    "    def __init__(self,color):\n",
    "        self.resources = {'wood':0,'brick':0,'rock':0,'wheat':0,'meat':0}\n",
    "        self.color = color\n",
    "        self.construc = {} # {location:type} type = village or city\n",
    "        \n",
    "class Board():\n",
    "    def __init__(self):\n",
    "        initial_setup = ['wood','wood','wood','wood',\n",
    "                       'rock','rock','rock',\n",
    "                       'brick','brick','brick','brick',\n",
    "                       'wheat','wheat','wheat','wheat',\n",
    "                       'meat','meat','meat',\n",
    "                       'thief',\n",
    "                      ] # perharps not the correct quantities\n",
    "        initial_prob=[2,\n",
    "              3,3,\n",
    "              4,4,\n",
    "              5,5,\n",
    "              6,6,\n",
    "              7,\n",
    "              8,8,\n",
    "              9,9,\n",
    "              10,10,\n",
    "              11,11,\n",
    "              12]\n",
    "        while True: # perhaps there is a better way, but this is quite fast\n",
    "            initial_setup = permutation(initial_setup).tolist()\n",
    "            self.tiles={i+1:initial_setup[i] for i in range(19)}\n",
    "\n",
    "            initial_prob=permutation(initial_prob)\n",
    "            self.prob={i+1:initial_prob[i] for i in range(19)}\n",
    "            self.selected = {i:[] for i in range(2,13)}\n",
    "            for i in range(1,20):\n",
    "                self.selected[self.prob[i]].append(self.tiles[i])\n",
    "            if self.selected[7]==['thief']:\n",
    "                break"
   ]
  },
  {
   "cell_type": "code",
   "execution_count": 91,
   "metadata": {
    "ExecuteTime": {
     "end_time": "2017-10-31T13:08:31.944000Z",
     "start_time": "2017-10-31T13:08:31.921000Z"
    }
   },
   "outputs": [
    {
     "data": {
      "text/plain": [
       "{2: ['wood'],\n",
       " 3: ['wheat', 'rock'],\n",
       " 4: ['meat', 'rock'],\n",
       " 5: ['brick', 'brick'],\n",
       " 6: ['wheat', 'wood'],\n",
       " 7: ['thief'],\n",
       " 8: ['brick', 'meat'],\n",
       " 9: ['wheat', 'wood'],\n",
       " 10: ['rock', 'meat'],\n",
       " 11: ['wheat', 'wood'],\n",
       " 12: ['brick']}"
      ]
     },
     "execution_count": 91,
     "metadata": {},
     "output_type": "execute_result"
    }
   ],
   "source": [
    "board=Board()\n",
    "board.selected"
   ]
  },
  {
   "cell_type": "code",
   "execution_count": null,
   "metadata": {
    "collapsed": true
   },
   "outputs": [],
   "source": []
  }
 ],
 "metadata": {
  "kernelspec": {
   "display_name": "Python 2",
   "language": "python",
   "name": "python2"
  },
  "language_info": {
   "codemirror_mode": {
    "name": "ipython",
    "version": 2
   },
   "file_extension": ".py",
   "mimetype": "text/x-python",
   "name": "python",
   "nbconvert_exporter": "python",
   "pygments_lexer": "ipython2",
   "version": "2.7.13"
  }
 },
 "nbformat": 4,
 "nbformat_minor": 2
}
