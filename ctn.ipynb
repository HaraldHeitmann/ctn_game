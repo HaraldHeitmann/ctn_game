{
 "cells": [
  {
   "cell_type": "code",
   "execution_count": 1,
   "metadata": {
    "ExecuteTime": {
     "end_time": "2017-10-31T13:22:57.119000Z",
     "start_time": "2017-10-31T13:22:56.733000Z"
    },
    "collapsed": true
   },
   "outputs": [],
   "source": [
    "from numpy.random import permutation "
   ]
  },
  {
   "cell_type": "code",
   "execution_count": 50,
   "metadata": {
    "ExecuteTime": {
     "end_time": "2017-10-31T13:49:32.789000Z",
     "start_time": "2017-10-31T13:49:32.737000Z"
    },
    "collapsed": true
   },
   "outputs": [],
   "source": [
    "class Player():\n",
    "    def __init__(self,color):\n",
    "        self.resources = {'wood':0,'brick':0,'rock':0,'wheat':0,'meat':0}\n",
    "        self.color = color\n",
    "        self.construc = {} # {location:type} type = village or city\n",
    "        \n",
    "class Board():\n",
    "    def __init__(self):\n",
    "        initial_setup = ['wood','wood','wood','wood',\n",
    "                       'rock','rock','rock',\n",
    "                       'brick','brick','brick','brick',\n",
    "                       'wheat','wheat','wheat','wheat',\n",
    "                       'meat','meat','meat',\n",
    "                       'thief',\n",
    "                      ] # perharps not the correct quantities\n",
    "        initial_prob=[2,\n",
    "              3,3,\n",
    "              4,4,\n",
    "              5,5,\n",
    "              6,6,\n",
    "              7,\n",
    "              8,8,\n",
    "              9,9,\n",
    "              10,10,\n",
    "              11,11,\n",
    "              12]\n",
    "        while True: # perhaps there is a better way, but this is quite fast\n",
    "            initial_setup = permutation(initial_setup).tolist()\n",
    "            self.tiles={i+1:initial_setup[i] for i in range(19)}\n",
    "\n",
    "            initial_prob=permutation(initial_prob)\n",
    "            self.prob={i+1:initial_prob[i] for i in range(19)}\n",
    "            self.selected = {i:[] for i in range(2,13)}\n",
    "            for i in range(1,20):\n",
    "                self.selected[self.prob[i]].append(self.tiles[i])\n",
    "            if self.selected[7]==['thief']:\n",
    "                break\n",
    "        self.places = range(1,55)\n",
    "        self.roads = range(1,73)\n",
    "        word='abcdefghifklmnopqrs'\n",
    "        layed=[2,\n",
    "              3,3,\n",
    "              4,4,\n",
    "              5,5,\n",
    "              6,6,\n",
    "              7,\n",
    "              8,8,\n",
    "              9,9,\n",
    "              10,10,\n",
    "              11,11,\n",
    "              12] # this determines how the board will be layed down\n",
    "        self.lay_me={word[i]:layed[i] for i in range(19)}"
   ]
  },
  {
   "cell_type": "code",
   "execution_count": 51,
   "metadata": {
    "ExecuteTime": {
     "end_time": "2017-10-31T13:49:33.098000Z",
     "start_time": "2017-10-31T13:49:33.077000Z"
    }
   },
   "outputs": [
    {
     "data": {
      "text/plain": [
       "{'a': 2,\n",
       " 'b': 3,\n",
       " 'c': 3,\n",
       " 'd': 4,\n",
       " 'e': 4,\n",
       " 'f': 7,\n",
       " 'g': 5,\n",
       " 'h': 6,\n",
       " 'i': 6,\n",
       " 'k': 8,\n",
       " 'l': 8,\n",
       " 'm': 9,\n",
       " 'n': 9,\n",
       " 'o': 10,\n",
       " 'p': 10,\n",
       " 'q': 11,\n",
       " 'r': 11,\n",
       " 's': 12}"
      ]
     },
     "execution_count": 51,
     "metadata": {},
     "output_type": "execute_result"
    }
   ],
   "source": [
    "board=Board()\n",
    "board.lay_me"
   ]
  },
  {
   "cell_type": "code",
   "execution_count": null,
   "metadata": {
    "collapsed": true
   },
   "outputs": [],
   "source": []
  }
 ],
 "metadata": {
  "kernelspec": {
   "display_name": "Python 2",
   "language": "python",
   "name": "python2"
  },
  "language_info": {
   "codemirror_mode": {
    "name": "ipython",
    "version": 2
   },
   "file_extension": ".py",
   "mimetype": "text/x-python",
   "name": "python",
   "nbconvert_exporter": "python",
   "pygments_lexer": "ipython2",
   "version": "2.7.13"
  }
 },
 "nbformat": 4,
 "nbformat_minor": 2
}
